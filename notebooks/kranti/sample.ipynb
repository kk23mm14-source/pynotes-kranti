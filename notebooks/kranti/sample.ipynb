{
 "cells": [
  {
   "cell_type": "code",
   "execution_count": null,
   "id": "43a6af43-4989-4082-ae5a-341968ecfb6e",
   "metadata": {},
   "outputs": [],
   "source": [
    "print(\"Sample\")\n"
   ]
  },
  {
   "cell_type": "code",
   "execution_count": null,
   "id": "4721c480-c211-4ec8-89f1-c3ddbde7f37e",
   "metadata": {},
   "outputs": [],
   "source": [
    "print(\"kranti\")\n"
   ]
  },
  {
   "cell_type": "code",
   "execution_count": null,
   "id": "68cc7910-df06-4bd6-bed9-aca53755d510",
   "metadata": {},
   "outputs": [],
   "source": [
    "print(\"hello\")"
   ]
  }
 ],
 "metadata": {
  "kernelspec": {
   "display_name": "Python 3 (ipykernel)",
   "language": "python",
   "name": "python3"
  },
  "language_info": {
   "codemirror_mode": {
    "name": "ipython",
    "version": 3
   },
   "file_extension": ".py",
   "mimetype": "text/x-python",
   "name": "python",
   "nbconvert_exporter": "python",
   "pygments_lexer": "ipython3",
   "version": "3.12.11"
  }
 },
 "nbformat": 4,
 "nbformat_minor": 5
}
