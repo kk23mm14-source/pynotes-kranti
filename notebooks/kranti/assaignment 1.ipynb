{
 "cells": [
  {
   "cell_type": "code",
   "execution_count": 6,
   "id": "d7da3cdd-178e-4ccc-a360-e65f27282784",
   "metadata": {},
   "outputs": [],
   "source": [
    "import pandas as pd\n",
    "import numpy as np"
   ]
  },
  {
   "cell_type": "code",
   "execution_count": 8,
   "id": "a987cff0-b050-4f4f-946b-6d7a1bfcce18",
   "metadata": {},
   "outputs": [],
   "source": [
    "def avg(l):\n",
    "  sum=0\n",
    "  count=0\n",
    "  for e in l:\n",
    "    sum=sum+e\n",
    "    count=count+1\n",
    "  avg=sum/count\n",
    "  print(avg)"
   ]
  },
  {
   "cell_type": "code",
   "execution_count": 9,
   "id": "623209ad-ee2c-4d85-819f-eb350bcc708c",
   "metadata": {},
   "outputs": [
    {
     "name": "stdout",
     "output_type": "stream",
     "text": [
      "89.76923076923077\n"
     ]
    }
   ],
   "source": [
    "speed = [99,86,87,88,111,86,103,87,94,78,77,85,86]\n",
    "avg(speed)"
   ]
  },
  {
   "cell_type": "code",
   "execution_count": 10,
   "id": "a41c7e20-aea6-4afb-a093-29221a1f1d3a",
   "metadata": {},
   "outputs": [
    {
     "name": "stdout",
     "output_type": "stream",
     "text": [
      "89.76923076923077\n"
     ]
    }
   ],
   "source": [
    "import numpy\n",
    "speed = [99,86,87,88,111,86,103,87,94,78,77,85,86]\n",
    "x = numpy.mean(speed)\n",
    "print(x)"
   ]
  },
  {
   "cell_type": "code",
   "execution_count": null,
   "id": "16c892c1-239f-42e8-9b3e-8c660695480c",
   "metadata": {},
   "outputs": [],
   "source": []
  }
 ],
 "metadata": {
  "kernelspec": {
   "display_name": "Python 3 (ipykernel)",
   "language": "python",
   "name": "python3"
  },
  "language_info": {
   "codemirror_mode": {
    "name": "ipython",
    "version": 3
   },
   "file_extension": ".py",
   "mimetype": "text/x-python",
   "name": "python",
   "nbconvert_exporter": "python",
   "pygments_lexer": "ipython3",
   "version": "3.12.11"
  }
 },
 "nbformat": 4,
 "nbformat_minor": 5
}
